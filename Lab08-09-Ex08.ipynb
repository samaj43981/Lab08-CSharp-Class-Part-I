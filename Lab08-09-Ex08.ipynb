{
 "cells": [
  {
   "cell_type": "markdown",
   "metadata": {
    "dotnet_interactive": {
     "language": "csharp"
    },
    "polyglot_notebook": {
     "kernelName": "csharp"
    }
   },
   "source": [
    "# Lab 8 Exercise 8\n",
    "\n",
    "## Static Class"
   ]
  },
  {
   "cell_type": "markdown",
   "metadata": {},
   "source": [
    "1. สร้าง console application project\n",
    "\n",
    "```\n",
    "    dotnet new console --name Lab08_Ex08\n",
    "```"
   ]
  },
  {
   "cell_type": "markdown",
   "metadata": {},
   "source": [
    "2. เปลี่ยน code ให้เป็นดังต่อไปนี้\n",
    "\n",
    "> ```csharp\n",
    ">  1. int x = 2, y = 3;\n",
    ">  2. int add_result = Calculator.add(x, y);\n",
    ">  3. System.Console.WriteLine($\"{x} + {y} = {add_result}\");\n",
    ">  4. \n",
    ">  5. int i = 2, j = 3;\n",
    ">  6. int multiply_result = Calculator.multiply(i, j);\n",
    ">  7. System.Console.WriteLine($\"{i} x {j} = {multiply_result}\");\n",
    ">  8. \n",
    ">  9. public static class Calculator\n",
    "> 10. {\n",
    "> 11.     public static int add(int a, int b)\n",
    "> 12.     {\n",
    "> 13.         return a + b;\n",
    "> 14.     }\n",
    "> 15.     public static int multiply(int a, int b)\n",
    "> 16.     {\n",
    "> 17.         return a * b;\n",
    "> 18.     }\n",
    "> 19. }\n",
    "> ```\n",
    "\n"
   ]
  },
  {
   "cell_type": "markdown",
   "metadata": {},
   "source": [
    "3. Build project โดยการใช้คำสั่ง\n",
    "\n",
    "```\n",
    "    dotnet build  Lab08_Ex08\n",
    "```\n",
    "\n"
   ]
  },
  {
   "cell_type": "markdown",
   "metadata": {},
   "source": [
    "4. บันทึกผลที่ได้จากการรันคำสั่งในข้อ 3\n",
    "\n"
   ]
  },
  {
   "cell_type": "markdown",
   "metadata": {},
   "source": [
    "*คำตอบ*"
   ]
  },
  {
   "cell_type": "markdown",
   "metadata": {},
   "source": [
    "  Lab08_Ex08 succeeded (0.5s) → Lab08_Ex08\\bin\\Debug\\net9.0\\Lab08_Ex08.dll\n",
    "\n",
    "Build succeeded in 1.4s"
   ]
  },
  {
   "cell_type": "markdown",
   "metadata": {},
   "source": [
    "5. Run project โดยการใช้คำสั่ง\n",
    "\n",
    "```\n",
    "    dotnet run --project Lab08_Ex08\n",
    "```"
   ]
  },
  {
   "cell_type": "markdown",
   "metadata": {},
   "source": [
    "6. บันทึกผลที่ได้จากการรันคำสั่งในข้อ 5\n",
    "\n",
    "\n"
   ]
  },
  {
   "cell_type": "markdown",
   "metadata": {},
   "source": [
    "*คำตอบ*"
   ]
  },
  {
   "cell_type": "markdown",
   "metadata": {},
   "source": [
    "2 + 3 = 5\n",
    "2 x 3 = 6"
   ]
  },
  {
   "cell_type": "markdown",
   "metadata": {},
   "source": [
    "7. อธิบายสิ่งที่พบในการทดลอง\n",
    "\n"
   ]
  },
  {
   "cell_type": "markdown",
   "metadata": {},
   "source": [
    "*คำตอบ*"
   ]
  },
  {
   "cell_type": "markdown",
   "metadata": {},
   "source": [
    "2 + 3 = 5\n",
    "2 x 3 = 6"
   ]
  },
  {
   "cell_type": "markdown",
   "metadata": {},
   "source": [
    "8. นำ code ในข้อ 2 มารันบน polyglot notebook  โดยใส่ใน  code cell ด้านล่างนี้\n"
   ]
  },
  {
   "cell_type": "code",
   "execution_count": 1,
   "metadata": {
    "polyglot_notebook": {
     "kernelName": "csharp"
    }
   },
   "outputs": [
    {
     "name": "stdout",
     "output_type": "stream",
     "text": [
      "2 + 3 = 5\n",
      "2 x 3 = 6\n"
     ]
    }
   ],
   "source": [
    "int x = 2, y = 3;\n",
    "int add_result = Calculator.add(x, y);\n",
    "System.Console.WriteLine($\"{x} + {y} = {add_result}\");\n",
    "\n",
    "int i = 2, j = 3;\n",
    "int multiply_result = Calculator.multiply(i, j);\n",
    "System.Console.WriteLine($\"{i} x {j} = {multiply_result}\");\n",
    "\n",
    "public static class Calculator\n",
    "{\n",
    "    public static int add(int a, int b)\n",
    "    {\n",
    "        return a + b;\n",
    "    }\n",
    "\n",
    "    public static int multiply(int a, int b)\n",
    "    {\n",
    "        return a * b;\n",
    "    }\n",
    "}"
   ]
  },
  {
   "cell_type": "markdown",
   "metadata": {},
   "source": [
    "8.1 ผลการรันเป็นอย่างไร\n",
    "\n"
   ]
  },
  {
   "cell_type": "markdown",
   "metadata": {},
   "source": [
    "*คำตอบ*"
   ]
  },
  {
   "cell_type": "markdown",
   "metadata": {},
   "source": [
    "2 + 3 = 5\n",
    "2 x 3 = 6"
   ]
  },
  {
   "cell_type": "markdown",
   "metadata": {},
   "source": [
    "8.2 เหมือนหรือต่างจาก console application อย่างไร"
   ]
  },
  {
   "cell_type": "markdown",
   "metadata": {},
   "source": [
    "*คำตอบ*"
   ]
  },
  {
   "cell_type": "markdown",
   "metadata": {},
   "source": [
    "idk"
   ]
  },
  {
   "cell_type": "markdown",
   "metadata": {},
   "source": [
    "## คำถาม"
   ]
  },
  {
   "cell_type": "markdown",
   "metadata": {},
   "source": [
    "1. static class คืออะไร และแตกต่างจาก class ธรรมดาอย่างไร"
   ]
  },
  {
   "cell_type": "markdown",
   "metadata": {},
   "source": [
    "*คำตอบ*"
   ]
  },
  {
   "cell_type": "markdown",
   "metadata": {},
   "source": [
    "static class:\n",
    "เป็นคลาสที่ไม่สามารถสร้าง instance (object) ได้\n",
    "ใช้สำหรับเก็บเมธอดและฟิลด์ที่เป็น static เท่านั้น\n",
    "สมาชิกทั้งหมดของ static class ต้องเป็น static\n",
    "มักใช้สำหรับเก็บเมธอด utility หรือ extension methods\n",
    "class ธรรมดา:\n",
    "สามารถสร้าง instance (object) ได้\n",
    "สามารถมีทั้งสมาชิกที่เป็น static และ instance\n",
    "ใช้สำหรับสร้าง object ที่มีสถานะและพฤติกรรม"
   ]
  },
  {
   "cell_type": "markdown",
   "metadata": {},
   "source": [
    "2. เมื่อไหร่ควรใช้ static class และเมื่อไหร่ควรใช้ class ธรรมดา"
   ]
  },
  {
   "cell_type": "markdown",
   "metadata": {},
   "source": [
    "*คำตอบ*"
   ]
  },
  {
   "cell_type": "markdown",
   "metadata": {},
   "source": [
    "static class:\n",
    "ใช้เมื่อต้องการเก็บเมธอด utility ที่ไม่ต้องการสถานะของ object\n",
    "ใช้สำหรับเก็บ extension methods\n",
    "ใช้เมื่อต้องการให้สมาชิกทั้งหมดของคลาสเป็น static\n",
    "class ธรรมดา:\n",
    "ใช้เมื่อต้องการสร้าง object ที่มีสถานะและพฤติกรรม\n",
    "ใช้เมื่อต้องการให้มีสมาชิกที่เป็น instance\n",
    "ใช้เมื่อต้องการให้สามารถสร้าง instance ของคลาสได้"
   ]
  },
  {
   "cell_type": "markdown",
   "metadata": {},
   "source": [
    "3. สมาชิกทั้งหมดของ static class ต้องเป็น static หรือไม่ เพราะอะไร"
   ]
  },
  {
   "cell_type": "markdown",
   "metadata": {},
   "source": [
    "*คำตอบ*"
   ]
  },
  {
   "cell_type": "markdown",
   "metadata": {},
   "source": [
    "ใช่ สมาชิกทั้งหมดของ static class ต้องเป็น static\n",
    "เพราะว่า static class ไม่สามารถสร้าง instance ได้ ดังนั้นสมาชิกใด ๆ ที่ไม่ใช่ static จะไม่สามารถเข้าถึงได้"
   ]
  },
  {
   "cell_type": "markdown",
   "metadata": {},
   "source": [
    "4. เราสามารถสร้าง instance ของ static class ได้หรือไม่  เพราะอะไร"
   ]
  },
  {
   "cell_type": "markdown",
   "metadata": {},
   "source": [
    "*คำตอบ*"
   ]
  },
  {
   "cell_type": "markdown",
   "metadata": {},
   "source": [
    "ไม่ได้ เราไม่สามารถสร้าง instance ของ static class ได้\n",
    "เพราะว่า static class ถูกออกแบบมาให้เป็นคลาสที่ไม่สามารถสร้าง instance ได้"
   ]
  }
 ],
 "metadata": {
  "kernelspec": {
   "display_name": ".NET (C#)",
   "language": "C#",
   "name": ".net-csharp"
  },
  "polyglot_notebook": {
   "kernelInfo": {
    "defaultKernelName": "csharp",
    "items": [
     {
      "aliases": [],
      "languageName": "csharp",
      "name": "csharp"
     }
    ]
   }
  }
 },
 "nbformat": 4,
 "nbformat_minor": 2
}
