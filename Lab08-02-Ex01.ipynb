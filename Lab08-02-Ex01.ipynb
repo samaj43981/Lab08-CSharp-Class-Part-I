{
 "cells": [
  {
   "cell_type": "markdown",
   "metadata": {},
   "source": [
    "# Lab 8 Exercise 1 \n",
    "##  การสร้าง Class\n"
   ]
  },
  {
   "cell_type": "markdown",
   "metadata": {},
   "source": [
    "\n",
    "1. สร้าง console application project\n"
   ]
  },
  {
   "cell_type": "markdown",
   "metadata": {},
   "source": [
    "1.1 เรียก terminal (cmd) ขึ้นมา \n",
    "\n",
    "1.2 ตรวจสอบให้แน่ใจว่าอยู่ใน folder หรือ directory ที่ต้องการสร้าง project \n",
    "\n",
    "1.3 พิมพ์คำสั่งต่อไปนี้\n",
    "\n",
    "``` \n",
    "    dotnet new console --name Lab08_Ex01\n",
    "```\n",
    "\n",
    "1.4 ใช้คำสั่ง dir เพื่อตรวจสอบดูว่าโฟลเดอร์ของ project ได้ถูกสร้างขึ้นแล้วหรือยัง"
   ]
  },
  {
   "cell_type": "markdown",
   "metadata": {},
   "source": [
    "\n",
    "2. เปลี่ยน code ในไฟล์ program.cs ให้เป็นดังต่อไปนี้ (ตัวเลขข้างหน้า คือหมายเลขบรรทัด ไว้สำหรับอ้างอิง)\n",
    "\n",
    "> ```c#\n",
    "> 1.  Person p = new Person();\n",
    "> 2.  System.Console.WriteLine($\"Type of p is {p.GetType()}\");\n",
    "> 3.  \n",
    "> 4.  class Person\n",
    "> 5.  {\n",
    "> 6.  \n",
    "> 7.  }\n",
    "> ```\n"
   ]
  },
  {
   "cell_type": "markdown",
   "metadata": {},
   "source": [
    "\n",
    "3. Build project โดยการใช้คำสั่ง\n",
    "\n",
    "```\n",
    "dotnet build  Lab08_Ex01\n",
    "```\n"
   ]
  },
  {
   "cell_type": "markdown",
   "metadata": {},
   "source": [
    "\n",
    "4. บันทึกผลที่ได้จากการรันคำสั่งในข้อ 3\n"
   ]
  },
  {
   "cell_type": "markdown",
   "metadata": {},
   "source": [
    "*คำตอบ*"
   ]
  },
  {
   "cell_type": "markdown",
   "metadata": {},
   "source": []
  },
  {
   "cell_type": "markdown",
   "metadata": {},
   "source": [
    "\n",
    "5. Run project โดยการใช้คำสั่ง\n",
    "\n",
    "```\n",
    "dotnet run --project Lab08_Ex01\n",
    "```\n"
   ]
  },
  {
   "cell_type": "markdown",
   "metadata": {},
   "source": [
    "\n",
    "6. บันทึกผลที่ได้จากการรันคำสั่งในข้อ 5\n"
   ]
  },
  {
   "cell_type": "markdown",
   "metadata": {},
   "source": [
    "*คำตอบ*"
   ]
  },
  {
   "cell_type": "markdown",
   "metadata": {},
   "source": []
  },
  {
   "cell_type": "markdown",
   "metadata": {},
   "source": [
    "7. โค้ดต่อไปนี้สามารถรันได้ใน polyglot notebook หรือไม่ "
   ]
  },
  {
   "cell_type": "code",
   "execution_count": null,
   "metadata": {},
   "outputs": [],
   "source": [
    "Person p = new Person();\n",
    "System.Console.WriteLine($\"Type of p is {p.GetType()}\");\n",
    "\n",
    "class Person\n",
    "{\n",
    "\n",
    "}"
   ]
  },
  {
   "cell_type": "markdown",
   "metadata": {},
   "source": [
    "*คำตอบ*"
   ]
  },
  {
   "cell_type": "markdown",
   "metadata": {},
   "source": []
  },
  {
   "cell_type": "markdown",
   "metadata": {},
   "source": [
    "## คำถาม\n",
    "\n"
   ]
  },
  {
   "cell_type": "markdown",
   "metadata": {},
   "source": [
    "1. Class ในภาษา C# คืออะไร\n"
   ]
  },
  {
   "cell_type": "markdown",
   "metadata": {},
   "source": [
    "*คำตอบ*"
   ]
  },
  {
   "cell_type": "markdown",
   "metadata": {},
   "source": [
    "คลาสในภาษา C# คือพิมพ์เขียว (blueprint) หรือแม่แบบที่ใช้ในการสร้าง object\n",
    "คลาสกำหนดโครงสร้างและพฤติกรรมของ object โดยกำหนด attribute (ข้อมูล) และ method (การกระทำ) ที่ object นั้นๆ มี"
   ]
  },
  {
   "cell_type": "markdown",
   "metadata": {},
   "source": [
    "2. Class มีหน้าที่อะไร\n"
   ]
  },
  {
   "cell_type": "markdown",
   "metadata": {},
   "source": [
    "*คำตอบ*"
   ]
  },
  {
   "cell_type": "markdown",
   "metadata": {},
   "source": [
    "กำหนดโครงสร้างและพฤติกรรมของ object\n",
    "ห่อหุ้มข้อมูลและ method ที่เกี่ยวข้องไว้ด้วยกัน\n",
    "สร้าง object หลายๆ object ที่มีโครงสร้างและพฤติกรรมเหมือนกัน"
   ]
  },
  {
   "cell_type": "markdown",
   "metadata": {},
   "source": [
    "3. ทำไมเราต้องใช้ Class\n"
   ]
  },
  {
   "cell_type": "markdown",
   "metadata": {},
   "source": [
    "*คำตอบ*"
   ]
  },
  {
   "cell_type": "markdown",
   "metadata": {},
   "source": [
    "จัดระเบียบโค้ดให้เป็น modular และ reusable\n",
    "ลดความซับซ้อนของโค้ด\n",
    "เพิ่มความสามารถในการบำรุงรักษาโค้ด\n",
    "รองรับหลักการเขียนโปรแกรมเชิงวัตถุ (Object-Oriented Programming)"
   ]
  },
  {
   "cell_type": "markdown",
   "metadata": {},
   "source": [
    "4. ส่วนประกอบของ Class มีอะไรบ้าง\n"
   ]
  },
  {
   "cell_type": "markdown",
   "metadata": {},
   "source": [
    "*คำตอบ*"
   ]
  },
  {
   "cell_type": "markdown",
   "metadata": {},
   "source": [
    "Attribute: ข้อมูลที่ object นั้นๆ มี เช่น ชื่อ, อายุ, สี\n",
    "Method: การกระทำที่ object นั้นๆ ทำได้ เช่น เดิน, พูด, คำนวณ\n",
    "Constructor: method พิเศษที่ใช้ในการสร้าง object\n",
    "Properties: method พิเศษที่ใช้ในการเข้าถึงและแก้ไข attribute\n",
    "Events: กลไกในการแจ้งเตือนเมื่อเกิดเหตุการณ์บางอย่าง"
   ]
  },
  {
   "cell_type": "markdown",
   "metadata": {},
   "source": [
    "5. Class และ Object แตกต่างกันอย่างไร\n"
   ]
  },
  {
   "cell_type": "markdown",
   "metadata": {},
   "source": [
    "*คำตอบ*"
   ]
  },
  {
   "cell_type": "markdown",
   "metadata": {},
   "source": [
    "Class: คือพิมพ์เขียวหรือแม่แบบ\n",
    "Object: คือ instance หรือตัวตนที่ถูกสร้างขึ้นจาก class\n",
    "เปรียบเทียบได้ว่า class คือแม่พิมพ์ และ object คือสิ่งที่ถูกปั๊มออกมาจากแม่พิมพ์"
   ]
  },
  {
   "cell_type": "markdown",
   "metadata": {},
   "source": [
    "6. การตั้งชื่อ Class มีหลักเกณฑ์อย่างไร"
   ]
  },
  {
   "cell_type": "markdown",
   "metadata": {},
   "source": [
    "*คำตอบ*"
   ]
  },
  {
   "cell_type": "markdown",
   "metadata": {},
   "source": [
    "ชื่อสื่อความหมาย: ชื่อคลาสควรสื่อถึงหน้าที่หรือสิ่งที่คลาสเป็น เช่น Person, Car, Product\n",
    "PascalCase: ใช้รูปแบบ PascalCase คือตัวอักษรแรกของแต่ละคำเป็นตัวพิมพ์ใหญ่ เช่น MyClass, EmployeeDetails\n",
    "หลีกเลี่ยงคำสงวน: ไม่ควรใช้คำสงวนของภาษา C# เช่น int, string, class\n",
    "ใช้คำนาม: ชื่อคลาสควรถูกตั้งเป็นคำนาม\n",
    "ไม่ควรใช้ตัวเลขนำหน้า: ชื่อคลาสไม่ควรเริ่มต้นด้วยตัวเลข"
   ]
  },
  {
   "cell_type": "markdown",
   "metadata": {},
   "source": [
    "7. คำสั่ง p.GetType() คืออะไร"
   ]
  },
  {
   "cell_type": "markdown",
   "metadata": {},
   "source": [
    "*คำตอบ*"
   ]
  },
  {
   "cell_type": "markdown",
   "metadata": {},
   "source": [
    "p.GetType() เป็นเมธอดที่ใช้สำหรับดึงข้อมูลประเภท (Type) ของ object p ในขณะ runtime\n",
    "เมธอดนี้จะคืนค่า object Type ซึ่งมีข้อมูลเกี่ยวกับประเภทของ object p เช่น ชื่อคลาส, namespace, assembly"
   ]
  },
  {
   "cell_type": "markdown",
   "metadata": {},
   "source": [
    "8. ผลที่ได้จากคำสั่ง  p.GetType() คืออะไร มันให้ข้อมูลอะไรแก่เราบ้าง"
   ]
  },
  {
   "cell_type": "markdown",
   "metadata": {},
   "source": [
    "*คำตอบ*"
   ]
  },
  {
   "cell_type": "markdown",
   "metadata": {},
   "source": [
    "p.GetType() จะคืนค่า object Type ซึ่งมีข้อมูลเกี่ยวกับประเภทของ object p\n",
    "ข้อมูลที่ได้จาก p.GetType():\n",
    "ชื่อคลาส (Name)\n",
    "namespace (Namespace)\n",
    "assembly (Assembly)\n",
    "base type (BaseType)\n",
    "interfaces ที่ implement (GetInterfaces())\n",
    "methods (GetMethods())\n",
    "properties (GetProperties())\n",
    "fields (GetFields())\n",
    "constructors (GetConstructors())"
   ]
  },
  {
   "cell_type": "markdown",
   "metadata": {},
   "source": [
    "9. ในภาษา C# การประกาศ class ไว้ก่อนหรือหลังการสร้าง  object ต่างกันหรือไม่ "
   ]
  },
  {
   "cell_type": "markdown",
   "metadata": {},
   "source": [
    "ไม่แตกต่างกัน ในภาษา C# สามารถประกาศ class ไว้ก่อนหรือหลังการสร้าง object ก็ได้\n",
    "Compiler จะทำการรวบรวมโค้ดทั้งหมดก่อนที่จะทำการ compile ดังนั้นลำดับของการประกาศ class จึงไม่มีผลต่อการทำงานของโปรแกรม"
   ]
  },
  {
   "cell_type": "markdown",
   "metadata": {},
   "source": [
    "*คำตอบ*"
   ]
  }
 ],
 "metadata": {
  "kernelspec": {
   "display_name": ".NET (C#)",
   "language": "C#",
   "name": ".net-csharp"
  },
  "polyglot_notebook": {
   "kernelInfo": {
    "defaultKernelName": "csharp",
    "items": [
     {
      "aliases": [],
      "languageName": "csharp",
      "name": "csharp"
     }
    ]
   }
  }
 },
 "nbformat": 4,
 "nbformat_minor": 2
}
