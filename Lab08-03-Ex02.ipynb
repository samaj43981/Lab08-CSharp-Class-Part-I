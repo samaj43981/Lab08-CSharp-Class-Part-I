{
 "cells": [
  {
   "cell_type": "markdown",
   "metadata": {},
   "source": [
    "# Lab 8 Exercise 2\n",
    "\n",
    "## การประกาศสมาชิกในคลาส (fields)\n"
   ]
  },
  {
   "cell_type": "markdown",
   "metadata": {},
   "source": [
    "\n",
    "\n",
    "1. สร้าง console application project\n",
    "\n",
    "```\n",
    "    dotnet new console --name Lab08_Ex02\n",
    "```\n"
   ]
  },
  {
   "cell_type": "markdown",
   "metadata": {},
   "source": [
    "\n",
    "2. เปลี่ยน code ให้เป็นดังต่อไปนี้ (ตัวเลขข้างหน้า คือหมายเลขบรรทัด ไว้สำหรับอ้างอิง)\n",
    "\n",
    "> ```csharp\n",
    ">  1. Person p = new Person();\n",
    ">  2. p.name = \"Rambo\";\n",
    ">  3. p.id = \"1987\";\n",
    ">  4. p.income = 2500;\n",
    ">  5. System.Console.WriteLine($\"Type of p is {p.GetType()}\");\n",
    ">  6. System.Console.WriteLine($\"p.name = {p.name}\\ttype = {p.name.GetType()}\");\n",
    ">  7. System.Console.WriteLine($\"p.id = {p.id}\\ttype = {p.id.GetType()}\");\n",
    ">  8. System.Console.WriteLine($\"p.income = {p.income}\\ttype = {p.income.GetType()}\");\n",
    ">  9. \n",
    "> 10. class Person\n",
    "> 11. {\n",
    "> 12.     string name;\n",
    "> 13.     string id;\n",
    "> 14.     int income;\n",
    "> 15. }\n",
    "> ```\n"
   ]
  },
  {
   "cell_type": "markdown",
   "metadata": {},
   "source": [
    "\n",
    "3. Build project โดยการใช้คำสั่ง\n",
    "\n",
    "```\n",
    "    dotnet build  Lab08_Ex02\n",
    "```\n"
   ]
  },
  {
   "cell_type": "markdown",
   "metadata": {},
   "source": [
    "\n",
    "4. บันทึกผลที่ได้จากการรันคำสั่งในข้อ 3\n"
   ]
  },
  {
   "cell_type": "markdown",
   "metadata": {},
   "source": [
    "*คำตอบ*"
   ]
  },
  {
   "cell_type": "markdown",
   "metadata": {},
   "source": [
    " คลาส Person ไม่ได้ถูกประกาศเป็น public\n",
    "\n",
    "     C:\\Users\\คอม\\OneDrive\\เอกสาร\\GitHub\\Lab08-CSharp-Class-Part-I\\Lab08_Ex02\\Program.cs(2,3): error CS0122: 'Person.name' is inaccessible due to its protection level\n",
    "    C:\\Users\\คอม\\OneDrive\\เอกสาร\\GitHub\\Lab08-CSharp-Class-Part-I\\Lab08_Ex02\\Program.cs(3,3): error CS0122: 'Person.id' is inaccessible due to its protection level\n",
    "    C:\\Users\\คอม\\OneDrive\\เอกสาร\\GitHub\\Lab08-CSharp-Class-Part-I\\Lab08_Ex02\\Program.cs(4,3): error CS0122: 'Person.income' is inaccessible due to its protection level\n",
    "    C:\\Users\\คอม\\OneDrive\\เอกสาร\\GitHub\\Lab08-CSharp-Class-Part-I\\Lab08_Ex02\\Program.cs(6,40): error CS0122: 'Person.name' is inaccessible due to its protection level\n",
    "    C:\\Users\\คอม\\OneDrive\\เอกสาร\\GitHub\\Lab08-CSharp-Class-Part-I\\Lab08_Ex02\\Program.cs(6,57): error CS0122: 'Person.name' is inaccessible due to its protection level\n",
    "    C:\\Users\\คอม\\OneDrive\\เอกสาร\\GitHub\\Lab08-CSharp-Class-Part-I\\Lab08_Ex02\\Program.cs(7,38): error CS0122: 'Person.id' is inaccessible due to its protection level\n",
    "    C:\\Users\\คอม\\OneDrive\\เอกสาร\\GitHub\\Lab08-CSharp-Class-Part-I\\Lab08_Ex02\\Program.cs(7,53): error CS0122: 'Person.id' is inaccessible due to its protection level\n",
    "    C:\\Users\\คอม\\OneDrive\\เอกสาร\\GitHub\\Lab08-CSharp-Class-Part-I\\Lab08_Ex02\\Program.cs(8,42): error CS0122: 'Person.income' is inaccessible due to its protection level\n",
    "    C:\\Users\\คอม\\OneDrive\\เอกสาร\\GitHub\\Lab08-CSharp-Class-Part-I\\Lab08_Ex02\\Program.cs(8,61): error CS0122: 'Person.income' is inaccessible due to its protection level\n",
    "    C:\\Users\\คอม\\OneDrive\\เอกสาร\\GitHub\\Lab08-CSharp-Class-Part-I\\Lab08_Ex02\\Program.cs(13,13): warning CS0169: The field 'Person.id' is never used\n",
    "    C:\\Users\\คอม\\OneDrive\\เอกสาร\\GitHub\\Lab08-CSharp-Class-Part-I\\Lab08_Ex02\\Program.cs(12,13): warning CS0169: The field 'Person.name' is never used\n",
    "    C:\\Users\\คอม\\OneDrive\\เอกสาร\\GitHub\\Lab08-CSharp-Class-Part-I\\Lab08_Ex02\\Program.cs(14,10): warning CS0169: The field 'Person.income' is never used"
   ]
  },
  {
   "cell_type": "markdown",
   "metadata": {},
   "source": [
    "\n",
    "5. Run project โดยการใช้คำสั่ง\n",
    "\n",
    "```\n",
    "    dotnet run --project Lab08_Ex02\n",
    "```\n"
   ]
  },
  {
   "cell_type": "markdown",
   "metadata": {},
   "source": [
    "\n",
    "6. บันทึกผลที่ได้จากการรันคำสั่งในข้อ 5\n",
    "\n"
   ]
  },
  {
   "cell_type": "markdown",
   "metadata": {},
   "source": [
    "*คำตอบ*"
   ]
  },
  {
   "cell_type": "markdown",
   "metadata": {},
   "source": [
    " คลาส Person ไม่ได้ถูกประกาศเป็น public\n",
    "\n",
    "     C:\\Users\\คอม\\OneDrive\\เอกสาร\\GitHub\\Lab08-CSharp-Class-Part-I\\Lab08_Ex02\\Program.cs(2,3): error CS0122: 'Person.name' is inaccessible due to its protection level\n",
    "    C:\\Users\\คอม\\OneDrive\\เอกสาร\\GitHub\\Lab08-CSharp-Class-Part-I\\Lab08_Ex02\\Program.cs(3,3): error CS0122: 'Person.id' is inaccessible due to its protection level\n",
    "    C:\\Users\\คอม\\OneDrive\\เอกสาร\\GitHub\\Lab08-CSharp-Class-Part-I\\Lab08_Ex02\\Program.cs(4,3): error CS0122: 'Person.income' is inaccessible due to its protection level\n",
    "    C:\\Users\\คอม\\OneDrive\\เอกสาร\\GitHub\\Lab08-CSharp-Class-Part-I\\Lab08_Ex02\\Program.cs(6,40): error CS0122: 'Person.name' is inaccessible due to its protection level\n",
    "    C:\\Users\\คอม\\OneDrive\\เอกสาร\\GitHub\\Lab08-CSharp-Class-Part-I\\Lab08_Ex02\\Program.cs(6,57): error CS0122: 'Person.name' is inaccessible due to its protection level\n",
    "    C:\\Users\\คอม\\OneDrive\\เอกสาร\\GitHub\\Lab08-CSharp-Class-Part-I\\Lab08_Ex02\\Program.cs(7,38): error CS0122: 'Person.id' is inaccessible due to its protection level\n",
    "    C:\\Users\\คอม\\OneDrive\\เอกสาร\\GitHub\\Lab08-CSharp-Class-Part-I\\Lab08_Ex02\\Program.cs(7,53): error CS0122: 'Person.id' is inaccessible due to its protection level\n",
    "    C:\\Users\\คอม\\OneDrive\\เอกสาร\\GitHub\\Lab08-CSharp-Class-Part-I\\Lab08_Ex02\\Program.cs(8,42): error CS0122: 'Person.income' is inaccessible due to its protection level\n",
    "    C:\\Users\\คอม\\OneDrive\\เอกสาร\\GitHub\\Lab08-CSharp-Class-Part-I\\Lab08_Ex02\\Program.cs(8,61): error CS0122: 'Person.income' is inaccessible due to its protection level\n",
    "    C:\\Users\\คอม\\OneDrive\\เอกสาร\\GitHub\\Lab08-CSharp-Class-Part-I\\Lab08_Ex02\\Program.cs(13,13): warning CS0169: The field 'Person.id' is never used\n",
    "    C:\\Users\\คอม\\OneDrive\\เอกสาร\\GitHub\\Lab08-CSharp-Class-Part-I\\Lab08_Ex02\\Program.cs(12,13): warning CS0169: The field 'Person.name' is never used\n",
    "    C:\\Users\\คอม\\OneDrive\\เอกสาร\\GitHub\\Lab08-CSharp-Class-Part-I\\Lab08_Ex02\\Program.cs(14,10): warning CS0169: The field 'Person.income' is never used"
   ]
  },
  {
   "cell_type": "markdown",
   "metadata": {},
   "source": [
    "\n",
    "7. อธิบายสิ่งที่พบในการทดลอง\n",
    "\n"
   ]
  },
  {
   "cell_type": "markdown",
   "metadata": {},
   "source": [
    "*คำตอบ*"
   ]
  },
  {
   "cell_type": "markdown",
   "metadata": {},
   "source": [
    " คลาส Person ไม่ได้ถูกประกาศเป็น public\n",
    "\n",
    "     C:\\Users\\คอม\\OneDrive\\เอกสาร\\GitHub\\Lab08-CSharp-Class-Part-I\\Lab08_Ex02\\Program.cs(2,3): error CS0122: 'Person.name' is inaccessible due to its protection level\n",
    "    C:\\Users\\คอม\\OneDrive\\เอกสาร\\GitHub\\Lab08-CSharp-Class-Part-I\\Lab08_Ex02\\Program.cs(3,3): error CS0122: 'Person.id' is inaccessible due to its protection level\n",
    "    C:\\Users\\คอม\\OneDrive\\เอกสาร\\GitHub\\Lab08-CSharp-Class-Part-I\\Lab08_Ex02\\Program.cs(4,3): error CS0122: 'Person.income' is inaccessible due to its protection level\n",
    "    C:\\Users\\คอม\\OneDrive\\เอกสาร\\GitHub\\Lab08-CSharp-Class-Part-I\\Lab08_Ex02\\Program.cs(6,40): error CS0122: 'Person.name' is inaccessible due to its protection level\n",
    "    C:\\Users\\คอม\\OneDrive\\เอกสาร\\GitHub\\Lab08-CSharp-Class-Part-I\\Lab08_Ex02\\Program.cs(6,57): error CS0122: 'Person.name' is inaccessible due to its protection level\n",
    "    C:\\Users\\คอม\\OneDrive\\เอกสาร\\GitHub\\Lab08-CSharp-Class-Part-I\\Lab08_Ex02\\Program.cs(7,38): error CS0122: 'Person.id' is inaccessible due to its protection level\n",
    "    C:\\Users\\คอม\\OneDrive\\เอกสาร\\GitHub\\Lab08-CSharp-Class-Part-I\\Lab08_Ex02\\Program.cs(7,53): error CS0122: 'Person.id' is inaccessible due to its protection level\n",
    "    C:\\Users\\คอม\\OneDrive\\เอกสาร\\GitHub\\Lab08-CSharp-Class-Part-I\\Lab08_Ex02\\Program.cs(8,42): error CS0122: 'Person.income' is inaccessible due to its protection level\n",
    "    C:\\Users\\คอม\\OneDrive\\เอกสาร\\GitHub\\Lab08-CSharp-Class-Part-I\\Lab08_Ex02\\Program.cs(8,61): error CS0122: 'Person.income' is inaccessible due to its protection level\n",
    "    C:\\Users\\คอม\\OneDrive\\เอกสาร\\GitHub\\Lab08-CSharp-Class-Part-I\\Lab08_Ex02\\Program.cs(13,13): warning CS0169: The field 'Person.id' is never used\n",
    "    C:\\Users\\คอม\\OneDrive\\เอกสาร\\GitHub\\Lab08-CSharp-Class-Part-I\\Lab08_Ex02\\Program.cs(12,13): warning CS0169: The field 'Person.name' is never used\n",
    "    C:\\Users\\คอม\\OneDrive\\เอกสาร\\GitHub\\Lab08-CSharp-Class-Part-I\\Lab08_Ex02\\Program.cs(14,10): warning CS0169: The field 'Person.income' is never used"
   ]
  },
  {
   "cell_type": "markdown",
   "metadata": {},
   "source": [
    "8. นำ code ในข้อ 2 มารันบน polyglot notebook  โดยใส่ใน  code cell ด้านล่างนี้\n"
   ]
  },
  {
   "cell_type": "code",
   "execution_count": 2,
   "metadata": {
    "polyglot_notebook": {
     "kernelName": "csharp"
    }
   },
   "outputs": [
    {
     "ename": "Error",
     "evalue": "(2,3): error CS0122: 'Person.name' is inaccessible due to its protection level\r\n(3,3): error CS0122: 'Person.id' is inaccessible due to its protection level\r\n(4,3): error CS0122: 'Person.income' is inaccessible due to its protection level\r\n(6,40): error CS0122: 'Person.name' is inaccessible due to its protection level\r\n(6,57): error CS0122: 'Person.name' is inaccessible due to its protection level\r\n(7,38): error CS0122: 'Person.id' is inaccessible due to its protection level\r\n(7,53): error CS0122: 'Person.id' is inaccessible due to its protection level\r\n(8,42): error CS0122: 'Person.income' is inaccessible due to its protection level\r\n(8,61): error CS0122: 'Person.income' is inaccessible due to its protection level",
     "output_type": "error",
     "traceback": [
      "(2,3): error CS0122: 'Person.name' is inaccessible due to its protection level\r\n",
      "(3,3): error CS0122: 'Person.id' is inaccessible due to its protection level\r\n",
      "(4,3): error CS0122: 'Person.income' is inaccessible due to its protection level\r\n",
      "(6,40): error CS0122: 'Person.name' is inaccessible due to its protection level\r\n",
      "(6,57): error CS0122: 'Person.name' is inaccessible due to its protection level\r\n",
      "(7,38): error CS0122: 'Person.id' is inaccessible due to its protection level\r\n",
      "(7,53): error CS0122: 'Person.id' is inaccessible due to its protection level\r\n",
      "(8,42): error CS0122: 'Person.income' is inaccessible due to its protection level\r\n",
      "(8,61): error CS0122: 'Person.income' is inaccessible due to its protection level"
     ]
    }
   ],
   "source": [
    "Person p = new Person();\n",
    "p.name = \"Rambo\";\n",
    "p.id = \"1987\";\n",
    "p.income = 2500;\n",
    "System.Console.WriteLine($\"Type of p is {p.GetType()}\");\n",
    "System.Console.WriteLine($\"p.name = {p.name}\\ttype = {p.name.GetType()}\");\n",
    "System.Console.WriteLine($\"p.id = {p.id}\\ttype = {p.id.GetType()}\");\n",
    "System.Console.WriteLine($\"p.income = {p.income}\\ttype = {p.income.GetType()}\");\n",
    " \n",
    "class Person\n",
    "{\n",
    "     string name;\n",
    "     string id;\n",
    "     int income;\n",
    " }"
   ]
  },
  {
   "cell_type": "markdown",
   "metadata": {},
   "source": [
    "8.1 ผลการรันเป็นอย่างไร\n",
    "\n"
   ]
  },
  {
   "cell_type": "markdown",
   "metadata": {},
   "source": [
    "*คำตอบ*"
   ]
  },
  {
   "cell_type": "markdown",
   "metadata": {},
   "source": [
    " คลาส Person ไม่ได้ถูกประกาศเป็น public\n",
    "\n",
    "(2,3): error CS0122: 'Person.name' is inaccessible due to its protection level\n",
    "(3,3): error CS0122: 'Person.id' is inaccessible due to its protection level\n",
    "(4,3): error CS0122: 'Person.income' is inaccessible due to its protection level\n",
    "(6,40): error CS0122: 'Person.name' is inaccessible due to its protection level\n",
    "(6,57): error CS0122: 'Person.name' is inaccessible due to its protection level\n",
    "(7,38): error CS0122: 'Person.id' is inaccessible due to its protection level\n",
    "(7,53): error CS0122: 'Person.id' is inaccessible due to its protection level\n",
    "(8,42): error CS0122: 'Person.income' is inaccessible due to its protection level\n",
    "(8,61): error CS0122: 'Person.income' is inaccessible due to its protection level\n",
    "(13,13): warning CS0169: The field 'Person.id' is never used\n",
    "(12,13): warning CS0169: The field 'Person.name' is never used\n",
    "(14,10): warning CS0169: The field 'Person.income' is never used"
   ]
  },
  {
   "cell_type": "markdown",
   "metadata": {},
   "source": [
    "8.2 เหมือนหรือค่างจาก console application อย่างไร"
   ]
  },
  {
   "cell_type": "markdown",
   "metadata": {},
   "source": [
    "*คำตอบ*"
   ]
  },
  {
   "cell_type": "markdown",
   "metadata": {},
   "source": [
    "ไม่ต่าง"
   ]
  },
  {
   "cell_type": "markdown",
   "metadata": {},
   "source": [
    "## คำถาม"
   ]
  },
  {
   "cell_type": "markdown",
   "metadata": {},
   "source": [
    "1. Field ในภาษา C# คืออะไร\n"
   ]
  },
  {
   "cell_type": "markdown",
   "metadata": {},
   "source": [
    "*คำตอบ*"
   ]
  },
  {
   "cell_type": "markdown",
   "metadata": {},
   "source": [
    "Field ในภาษา C# คือตัวแปรที่ประกาศไว้ภายในคลาสหรือโครงสร้าง (struct) ใช้สำหรับเก็บข้อมูลที่เป็นส่วนหนึ่งของ object หรือ instance ของคลาสนั้นๆ\n",
    "Field เปรียบเสมือนคุณสมบัติหรือลักษณะของ object"
   ]
  },
  {
   "cell_type": "markdown",
   "metadata": {},
   "source": [
    "2. Field มีหน้าที่อะไรใน class \n"
   ]
  },
  {
   "cell_type": "markdown",
   "metadata": {},
   "source": [
    "*คำตอบ*"
   ]
  },
  {
   "cell_type": "markdown",
   "metadata": {},
   "source": [
    "เก็บข้อมูลที่เป็นสถานะ (state) ของ object\n",
    "กำหนดคุณสมบัติหรือลักษณะของ object\n",
    "ใช้ในการเข้าถึงและแก้ไขข้อมูลภายใน object"
   ]
  },
  {
   "cell_type": "markdown",
   "metadata": {},
   "source": [
    "3. การประกาศ Field ทำได้อย่างไร ให้อธิบายรูปแบบการประกาศ field ในคลาส\n"
   ]
  },
  {
   "cell_type": "markdown",
   "metadata": {},
   "source": [
    "*คำตอบ*"
   ]
  },
  {
   "cell_type": "markdown",
   "metadata": {},
   "source": [
    "access_modifier (optional): กำหนดขอบเขตการเข้าถึง Field เช่น public, private, protected, internal\n",
    "static (optional): กำหนดให้ Field เป็น Field ของคลาส (shared) แทนที่จะเป็น Field ของ instance\n",
    "readonly (optional): กำหนดให้ Field เป็นค่าคงที่ (assign ได้ครั้งเดียวใน constructor)\n",
    "type: ประเภทข้อมูลของ Field เช่น int, string, bool, DateTime\n",
    "field_name: ชื่อของ Field\n",
    "initial_value (optional): ค่าเริ่มต้นของ Field"
   ]
  },
  {
   "cell_type": "markdown",
   "metadata": {},
   "source": [
    "4. Field และ Variable แตกต่างกันอย่างไร\n"
   ]
  },
  {
   "cell_type": "markdown",
   "metadata": {},
   "source": [
    "*คำตอบ*"
   ]
  },
  {
   "cell_type": "markdown",
   "metadata": {},
   "source": [
    "Field: ประกาศภายในคลาสหรือ struct, ใช้เก็บข้อมูลที่เป็นส่วนหนึ่งของ object\n",
    "Variable: ประกาศภายใน method หรือ block, ใช้เก็บข้อมูลชั่วคราวภายใน scope นั้นๆ"
   ]
  },
  {
   "cell_type": "markdown",
   "metadata": {},
   "source": [
    "5. เมื่อไหร่ควรใช้ Field และเมื่อไหร่ควรใช้ Variable"
   ]
  },
  {
   "cell_type": "markdown",
   "metadata": {},
   "source": [
    "*คำตอบ*"
   ]
  },
  {
   "cell_type": "markdown",
   "metadata": {},
   "source": [
    "Field: ใช้เมื่อต้องการเก็บข้อมูลที่เป็นสถานะของ object หรือมีอายุการใช้งานนานกว่า method\n",
    "Variable: ใช้เมื่อต้องการเก็บข้อมูลชั่วคราวภายใน method หรือ block"
   ]
  },
  {
   "cell_type": "markdown",
   "metadata": {},
   "source": [
    "6. ในโปรแกรมการทดลองนี้ มี field หรือไม่ อยู่ในบรรทัดที่เท่าไหร่\n"
   ]
  },
  {
   "cell_type": "markdown",
   "metadata": {},
   "source": [
    "*คำตอบ*"
   ]
  },
  {
   "cell_type": "markdown",
   "metadata": {},
   "source": [
    "บรรทัดที่ 12,13,14\n",
    "```csharp\n",
    "class Person\n",
    "{\n",
    "     string name;\n",
    "     string id;\n",
    "     int income;\n",
    " }\n",
    " ```"
   ]
  },
  {
   "cell_type": "markdown",
   "metadata": {},
   "source": [
    "7. ผลจากการรันโปรแกรมใน Console Application และใน polyglot notebook เหมือนหรือแตกต่างกันอย่างไร"
   ]
  },
  {
   "cell_type": "markdown",
   "metadata": {},
   "source": [
    "*คำตอบ*"
   ]
  },
  {
   "cell_type": "markdown",
   "metadata": {},
   "source": [
    " polyglot notebook มีความสามารถด้านการแสดงผล และความสามารถในการทดลอง code ที่ง่ายและสะดวกกว่า Console Application"
   ]
  }
 ],
 "metadata": {
  "kernelspec": {
   "display_name": ".NET (C#)",
   "language": "C#",
   "name": ".net-csharp"
  },
  "polyglot_notebook": {
   "kernelInfo": {
    "defaultKernelName": "csharp",
    "items": [
     {
      "aliases": [],
      "languageName": "csharp",
      "name": "csharp"
     }
    ]
   }
  }
 },
 "nbformat": 4,
 "nbformat_minor": 2
}
