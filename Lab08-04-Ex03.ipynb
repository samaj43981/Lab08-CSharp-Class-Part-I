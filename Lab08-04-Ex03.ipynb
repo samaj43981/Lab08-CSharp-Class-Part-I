{
 "cells": [
  {
   "cell_type": "markdown",
   "metadata": {
    "dotnet_interactive": {
     "language": "csharp"
    },
    "polyglot_notebook": {
     "kernelName": "csharp"
    }
   },
   "source": [
    "# Lab 8 Exercise 3\n",
    "\n",
    "## การควบคุมการเข้าถึงสมาชิกในคลาส (fields)\n"
   ]
  },
  {
   "cell_type": "markdown",
   "metadata": {},
   "source": [
    "\n",
    "1. สร้าง console application project\n",
    "\n",
    "> ```\n",
    ">     dotnet new console --name Lab08_Ex03\n",
    "> ```\n"
   ]
  },
  {
   "cell_type": "markdown",
   "metadata": {},
   "source": [
    "\n",
    "2. เปลี่ยน code ให้เป็นดังต่อไปนี้\n",
    "\n",
    "> ```csharp\n",
    ">  1. Person p = new Person();\n",
    ">  2. p.name = \"Rambo\";\n",
    ">  3. p.id = \"1987\";\n",
    ">  4. p.income = 2500;\n",
    ">  5. System.Console.WriteLine($\"Type of p is {p.GetType()}\");\n",
    ">  6. System.Console.WriteLine($\"p.name = {p.name}\\ttype = {p.name.GetType()}\");\n",
    ">  7. System.Console.WriteLine($\"p.id = {p.id}\\ttype = {p.id.GetType()}\");\n",
    ">  8. System.Console.WriteLine($\"p.income = {p.income}\\ttype = {p.income.GetType()}\");\n",
    ">  9. \n",
    "> 10. class Person\n",
    "> 11. {\n",
    "> 12.     public string? name;\n",
    "> 13.     public string? id;\n",
    "> 14.     public int income;\n",
    "> 15. }\n",
    "> ```"
   ]
  },
  {
   "cell_type": "markdown",
   "metadata": {},
   "source": [
    "\n",
    "3. Build project โดยการใช้คำสั่ง\n",
    "\n",
    "> ```\n",
    ">     dotnet build  Lab08_Ex03\n",
    "> ```\n"
   ]
  },
  {
   "cell_type": "markdown",
   "metadata": {},
   "source": [
    "\n",
    "4. บันทึกผลที่ได้จากการรันคำสั่งในข้อ 3\n"
   ]
  },
  {
   "cell_type": "markdown",
   "metadata": {},
   "source": [
    "*คำตอบ*"
   ]
  },
  {
   "cell_type": "markdown",
   "metadata": {},
   "source": [
    "  Lab08_Ex03 succeeded (2.1s) → Lab08_Ex03\\bin\\Debug\\net9.0\\Lab08_Ex03.dll\n",
    "\n",
    "Build succeeded in 2.9s"
   ]
  },
  {
   "cell_type": "markdown",
   "metadata": {},
   "source": [
    "\n",
    "5. Run project โดยการใช้คำสั่ง\n",
    "\n",
    "> ```\n",
    ">     dotnet run --project Lab08_Ex03\n",
    "> ```\n"
   ]
  },
  {
   "cell_type": "markdown",
   "metadata": {},
   "source": [
    "\n",
    "6. บันทึกผลที่ได้จากการรันคำสั่งในข้อ 5\n"
   ]
  },
  {
   "cell_type": "markdown",
   "metadata": {},
   "source": [
    "*คำตอบ*"
   ]
  },
  {
   "cell_type": "markdown",
   "metadata": {},
   "source": [
    "Type of p is Person\n",
    "p.name = Rambo  type = System.String\n",
    "p.id = 1987     type = System.String\n",
    "p.income = 2500 type = System.Int32"
   ]
  },
  {
   "cell_type": "markdown",
   "metadata": {},
   "source": [
    "7. นำโค้ดในข้อ 2  มารันใน code cell\n",
    "\n"
   ]
  },
  {
   "cell_type": "code",
   "execution_count": 7,
   "metadata": {
    "polyglot_notebook": {
     "kernelName": "csharp"
    }
   },
   "outputs": [],
   "source": [
    "public class Person\n",
    "{\n",
    "    public string name;\n",
    "    public string id; // แก้ไขประเภทข้อมูลเป็น string\n",
    "    public int income;\n",
    "}\n",
    "\n",
    "public class Program\n",
    "{\n",
    "    public static void Main(string[] args)\n",
    "    {\n",
    "        Person p = new Person();\n",
    "\n",
    "        p.name = \"Rambo\";\n",
    "        p.id = \"1987\";\n",
    "        p.income = 2500;\n",
    "\n",
    "        System.Console.WriteLine($\"Type of p is {p.GetType()}\");\n",
    "        System.Console.WriteLine($\"p.name = {p.name}\\ttype = {p.name.GetType()}\");\n",
    "        System.Console.WriteLine($\"p.id = {p.id}\\ttype = {p.id.GetType()}\");\n",
    "        System.Console.WriteLine($\"p.income = {p.income}\\ttype = {p.income.GetType()}\");\n",
    "    }\n",
    "}"
   ]
  },
  {
   "cell_type": "markdown",
   "metadata": {},
   "source": [
    "## คำถาม"
   ]
  },
  {
   "cell_type": "markdown",
   "metadata": {},
   "source": [
    "1. Access modifier ในภาษา C# คืออะไร\n"
   ]
  },
  {
   "cell_type": "markdown",
   "metadata": {},
   "source": [
    "*คำตอบ*"
   ]
  },
  {
   "cell_type": "markdown",
   "metadata": {},
   "source": []
  },
  {
   "cell_type": "markdown",
   "metadata": {},
   "source": [
    "2. จงอธิบายขอบเขตและการใช้งานของ Access modifier ต่อไปนี้ \n"
   ]
  },
  {
   "cell_type": "markdown",
   "metadata": {},
   "source": [
    "2.1  public\n"
   ]
  },
  {
   "cell_type": "markdown",
   "metadata": {},
   "source": [
    "*คำตอบ*"
   ]
  },
  {
   "cell_type": "markdown",
   "metadata": {},
   "source": []
  },
  {
   "cell_type": "markdown",
   "metadata": {},
   "source": [
    "2.2 private\n"
   ]
  },
  {
   "cell_type": "markdown",
   "metadata": {},
   "source": [
    "*คำตอบ*"
   ]
  },
  {
   "cell_type": "markdown",
   "metadata": {},
   "source": []
  },
  {
   "cell_type": "markdown",
   "metadata": {},
   "source": [
    "2.3 protected\n"
   ]
  },
  {
   "cell_type": "markdown",
   "metadata": {},
   "source": [
    "*คำตอบ*"
   ]
  },
  {
   "cell_type": "markdown",
   "metadata": {},
   "source": []
  },
  {
   "cell_type": "markdown",
   "metadata": {},
   "source": [
    "2.4 internal\n"
   ]
  },
  {
   "cell_type": "markdown",
   "metadata": {},
   "source": [
    "*คำตอบ*"
   ]
  },
  {
   "cell_type": "markdown",
   "metadata": {},
   "source": []
  },
  {
   "cell_type": "markdown",
   "metadata": {},
   "source": [
    "2.5 protected internal"
   ]
  },
  {
   "cell_type": "markdown",
   "metadata": {},
   "source": [
    "*คำตอบ*"
   ]
  },
  {
   "cell_type": "markdown",
   "metadata": {},
   "source": []
  },
  {
   "cell_type": "markdown",
   "metadata": {},
   "source": [
    "3. ถ้าแก้ไขโค้ดในบรรทัดที่ 14 เป็นดังต่อไปนี้  จะได้ผลการ build หรือ run เป็นอย่างไร \n",
    "```csharp\n",
    "    private int income;\n",
    "```"
   ]
  },
  {
   "cell_type": "code",
   "execution_count": null,
   "metadata": {
    "dotnet_interactive": {
     "language": "csharp"
    },
    "polyglot_notebook": {
     "kernelName": "csharp"
    }
   },
   "outputs": [
    {
     "ename": "Error",
     "evalue": "(4,3): error CS0122: 'Person.income' is inaccessible due to its protection level\r\n(8,42): error CS0122: 'Person.income' is inaccessible due to its protection level\r\n(8,61): error CS0122: 'Person.income' is inaccessible due to its protection level",
     "output_type": "error",
     "traceback": [
      "(4,3): error CS0122: 'Person.income' is inaccessible due to its protection level\r\n",
      "(8,42): error CS0122: 'Person.income' is inaccessible due to its protection level\r\n",
      "(8,61): error CS0122: 'Person.income' is inaccessible due to its protection level"
     ]
    }
   ],
   "source": [
    "Person p = new Person();\n",
    "p.name = \"Rambo\";\n",
    "p.id = \"1987\";\n",
    "p.income = 2500;\n",
    "System.Console.WriteLine($\"Type of p is {p.GetType()}\");\n",
    "System.Console.WriteLine($\"p.name = {p.name}\\ttype = {p.name.GetType()}\");\n",
    "System.Console.WriteLine($\"p.id = {p.id}\\ttype = {p.id.GetType()}\");\n",
    "System.Console.WriteLine($\"p.income = {p.income}\\ttype = {p.income.GetType()}\");\n",
    "\n",
    "class Person\n",
    "{\n",
    "     public string? name;\n",
    "     protected string? name;\n",
    "     private int income;\n",
    "}"
   ]
  },
  {
   "cell_type": "markdown",
   "metadata": {},
   "source": [
    "*คำตอบ*"
   ]
  },
  {
   "cell_type": "markdown",
   "metadata": {},
   "source": [
    "income ถูกประกาศเป็น private ในคลาส Person ทำให้ไม่สามารถเข้าถึงได้จากภายนอกคลาส\n",
    "\n"
   ]
  },
  {
   "cell_type": "markdown",
   "metadata": {},
   "source": [
    "4. ถ้าแก้ไขโค้ดในบรรทัดที่ 13 เป็นดังต่อไปนี้  จะได้ผลการ build หรือ run เป็นอย่างไร \n",
    "```csharp\n",
    "    protected string? name;\n",
    "```"
   ]
  },
  {
   "cell_type": "code",
   "execution_count": 12,
   "metadata": {
    "dotnet_interactive": {
     "language": "csharp"
    },
    "polyglot_notebook": {
     "kernelName": "csharp"
    }
   },
   "outputs": [
    {
     "ename": "Error",
     "evalue": "(13,24): error CS0102: The type 'Person' already contains a definition for 'name'\r\n(3,3): error CS1061: 'Person' does not contain a definition for 'id' and no accessible extension method 'id' accepting a first argument of type 'Person' could be found (are you missing a using directive or an assembly reference?)\r\n(7,38): error CS1061: 'Person' does not contain a definition for 'id' and no accessible extension method 'id' accepting a first argument of type 'Person' could be found (are you missing a using directive or an assembly reference?)\r\n(7,53): error CS1061: 'Person' does not contain a definition for 'id' and no accessible extension method 'id' accepting a first argument of type 'Person' could be found (are you missing a using directive or an assembly reference?)",
     "output_type": "error",
     "traceback": [
      "(13,24): error CS0102: The type 'Person' already contains a definition for 'name'\r\n",
      "(3,3): error CS1061: 'Person' does not contain a definition for 'id' and no accessible extension method 'id' accepting a first argument of type 'Person' could be found (are you missing a using directive or an assembly reference?)\r\n",
      "(7,38): error CS1061: 'Person' does not contain a definition for 'id' and no accessible extension method 'id' accepting a first argument of type 'Person' could be found (are you missing a using directive or an assembly reference?)\r\n",
      "(7,53): error CS1061: 'Person' does not contain a definition for 'id' and no accessible extension method 'id' accepting a first argument of type 'Person' could be found (are you missing a using directive or an assembly reference?)"
     ]
    }
   ],
   "source": [
    "Person p = new Person();\n",
    "p.name = \"Rambo\";\n",
    "p.id = \"1987\";\n",
    "p.income = 2500;\n",
    "System.Console.WriteLine($\"Type of p is {p.GetType()}\");\n",
    "System.Console.WriteLine($\"p.name = {p.name}\\ttype = {p.name.GetType()}\");\n",
    "System.Console.WriteLine($\"p.id = {p.id}\\ttype = {p.id.GetType()}\");\n",
    "System.Console.WriteLine($\"p.income = {p.income}\\ttype = {p.income.GetType()}\");\n",
    "\n",
    "class Person\n",
    "{\n",
    "     public string? name;\n",
    "     protected string? name;\n",
    "     public int income;\n",
    "}"
   ]
  },
  {
   "cell_type": "markdown",
   "metadata": {},
   "source": [
    "*คำตอบ*"
   ]
  },
  {
   "cell_type": "markdown",
   "metadata": {},
   "source": [
    "ทำให้เกิดข้อผิดพลาดในการ build หลายจุดดังนี้:\n",
    "\n",
    "Error CS0102: คลาส Person มีการกำหนด name ไว้แล้ว 2 ครั้ง (บรรทัดที่ 12 และ 13) ทำให้เกิดข้อผิดพลาดเนื่องจากชื่อซ้ำกัน\n",
    "Error CS1061: คลาส Person ไม่มี id ทำให้เกิดข้อผิดพลาดในการเข้าถึง id ทั้งในบรรทัดที่ 3 และ 7\n",
    "Error CS0122: income เป็น private ทำให้เกิดข้อผิดพลาดในการเข้าถึง income ในบรรทัดที่ 4 และ 8"
   ]
  },
  {
   "cell_type": "markdown",
   "metadata": {},
   "source": [
    "3. เครื่องหมาย `?` ในบรรทัดที่ 13 `protected string? name;` มีความหมายว่าอย่างไร  "
   ]
  },
  {
   "cell_type": "markdown",
   "metadata": {},
   "source": [
    "*คำตอบ*"
   ]
  },
  {
   "cell_type": "markdown",
   "metadata": {},
   "source": [
    "เครื่องหมาย ? ใน protected string? name; หมายถึง name เป็น nullable string ซึ่งหมายความว่า name สามารถเก็บค่า null ได้"
   ]
  }
 ],
 "metadata": {
  "kernelspec": {
   "display_name": ".NET (C#)",
   "language": "C#",
   "name": ".net-csharp"
  },
  "polyglot_notebook": {
   "kernelInfo": {
    "defaultKernelName": "csharp",
    "items": [
     {
      "aliases": [],
      "languageName": "csharp",
      "name": "csharp"
     }
    ]
   }
  }
 },
 "nbformat": 4,
 "nbformat_minor": 2
}
