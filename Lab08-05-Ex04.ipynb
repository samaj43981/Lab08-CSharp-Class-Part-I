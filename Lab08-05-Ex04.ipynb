{
 "cells": [
  {
   "cell_type": "markdown",
   "metadata": {},
   "source": [
    "# Lab 8 Exercise 4\n",
    "\n",
    "## Fields declaration and initialization\n",
    "\n"
   ]
  },
  {
   "cell_type": "markdown",
   "metadata": {},
   "source": [
    "\n",
    "1. สร้าง console application project\n",
    "\n",
    "```\n",
    "    dotnet new console --name Lab08_Ex04\n",
    "```\n"
   ]
  },
  {
   "cell_type": "markdown",
   "metadata": {},
   "source": [
    "\n",
    "2. เปลี่ยน code ให้เป็นดังต่อไปนี้\n",
    "\n",
    "> ```csharp\n",
    ">  1. var myObj = new MyClass();\n",
    ">  2. \n",
    ">  3. System.Console.WriteLine($\"Default integer      F1 = {myObj.F1}\");  //Implicit fields initialization\n",
    ">  4. System.Console.WriteLine($\"Default string       F2 = {myObj.F2}\");\n",
    ">  5. System.Console.WriteLine($\"Initialized integer  F3 = {myObj.F3}\");  //Explicit field initialization\n",
    ">  6. System.Console.WriteLine($\"Initialized string   F4 = {myObj.F4}\");\n",
    ">  7. \n",
    ">  8. class MyClass\n",
    ">  9. {\n",
    "> 10.    public int F1;\n",
    "> 11.    public string F2;\n",
    "> 12.    public int F3 = 100;\n",
    "> 13.    public string F4 = \"ASDF\";\n",
    "> 14. }\n",
    "> ```"
   ]
  },
  {
   "cell_type": "markdown",
   "metadata": {},
   "source": [
    "\n",
    "3. Build project โดยการใช้คำสั่ง\n",
    "\n",
    "```\n",
    "    dotnet build  Lab08_Ex04\n",
    "```"
   ]
  },
  {
   "cell_type": "markdown",
   "metadata": {},
   "source": [
    "\n",
    "4. บันทึกผลที่ได้จากการรันคำสั่งในข้อ 3\n"
   ]
  },
  {
   "cell_type": "markdown",
   "metadata": {},
   "source": [
    "*คำตอบ*"
   ]
  },
  {
   "cell_type": "markdown",
   "metadata": {},
   "source": [
    "Restore complete (0.3s)\n",
    "  Lab08_Ex04 succeeded with 3 warning(s) (0.5s) → Lab08_Ex04\\bin\\Debug\\net9.0\\Lab08_Ex04.dll\n",
    "    C:\\Users\\คอม\\OneDrive\\เอกสาร\\GitHub\\Lab08-CSharp-Class-Part-I\\Lab08_Ex04\\Program.cs(12,19): warning CS8618: Non-nullable field 'F2' must contain a non-null value when exiting constructor. Consider adding the 'required' modifier or declaring the field as nullable.\n",
    "    C:\\Users\\คอม\\OneDrive\\เอกสาร\\GitHub\\Lab08-CSharp-Class-Part-I\\Lab08_Ex04\\Program.cs(12,19): warning CS0649: Field 'MyClass.F2' is never assigned to, and will always have its default value null\n",
    "    C:\\Users\\คอม\\OneDrive\\เอกสาร\\GitHub\\Lab08-CSharp-Class-Part-I\\Lab08_Ex04\\Program.cs(11,16): warning CS0649: Field 'MyClass.F1' is never assigned to, and will always have its default value 0\n",
    "\n",
    "Build succeeded with 3 warning(s) in 1.3s"
   ]
  },
  {
   "cell_type": "markdown",
   "metadata": {},
   "source": [
    "\n",
    "5. Run project โดยการใช้คำสั่ง\n",
    "\n",
    "```\n",
    "    dotnet run --project Lab08_Ex04\n",
    "```"
   ]
  },
  {
   "cell_type": "markdown",
   "metadata": {},
   "source": [
    "\n",
    "6. บันทึกผลที่ได้จากการรันคำสั่งในข้อ 5\n",
    "\n"
   ]
  },
  {
   "cell_type": "markdown",
   "metadata": {},
   "source": [
    "*คำตอบ*"
   ]
  },
  {
   "cell_type": "markdown",
   "metadata": {},
   "source": [
    "C:\\Users\\คอม\\OneDrive\\เอกสาร\\GitHub\\Lab08-CSharp-Class-Part-I>dotnet run --project Lab08_Ex04\n",
    "Default integer F1 = 0\n",
    "Default string F2 =\n",
    "Initialized integer F3 = 100\n",
    "Initialized string F4 = ASDF\n"
   ]
  },
  {
   "cell_type": "markdown",
   "metadata": {},
   "source": [
    "7. อธิบายสิ่งที่พบในการทดลอง"
   ]
  },
  {
   "cell_type": "markdown",
   "metadata": {},
   "source": [
    "*คำตอบ*"
   ]
  },
  {
   "cell_type": "markdown",
   "metadata": {},
   "source": [
    "เมื่อสร้างอ็อบเจ็กต์จากคลาส MyClass field ที่ไม่ได้กำหนดค่าเริ่มต้นจะใช้ค่าเริ่มต้นของประเภทข้อมูลนั้นๆ\n",
    "field ที่กำหนดค่าเริ่มต้นในคลาส จะมีค่าเริ่มต้นตามที่กำหนดไว้\n",
    "การแสดงผลลัพธ์จะแสดงค่าเริ่มต้นของ field แต่ละตัวตามที่กำหนดไว้ในคลาสหรือตามค่าเริ่มต้นของประเภทข้อมูลนั้นๆ"
   ]
  },
  {
   "cell_type": "markdown",
   "metadata": {},
   "source": [
    "8. นำ code ในข้อ 2 มารันบน polyglot notebook  โดยใส่ใน  code cell ด้านล่างนี้\n"
   ]
  },
  {
   "cell_type": "code",
   "execution_count": 1,
   "metadata": {
    "dotnet_interactive": {
     "language": "csharp"
    },
    "polyglot_notebook": {
     "kernelName": "csharp"
    }
   },
   "outputs": [
    {
     "name": "stdout",
     "output_type": "stream",
     "text": [
      "Default integer F1 = 0\n",
      "Default string F2 = \n",
      "Initialized integer F3 = 100\n",
      "Initialized string F4 = ASDF\n"
     ]
    }
   ],
   "source": [
    "var myObj = new MyClass();\n",
    "\n",
    "System.Console.WriteLine($\"Default integer F1 = {myObj.F1}\"); // Implicit fields initialization\n",
    "System.Console.WriteLine($\"Default string F2 = {myObj.F2}\");\n",
    "\n",
    "System.Console.WriteLine($\"Initialized integer F3 = {myObj.F3}\"); // Explicit field initialization\n",
    "System.Console.WriteLine($\"Initialized string F4 = {myObj.F4}\");\n",
    "\n",
    "class MyClass\n",
    "{\n",
    "    public int F1;\n",
    "    public string F2;\n",
    "    public int F3 = 100;\n",
    "    public string F4 = \"ASDF\";\n",
    "}"
   ]
  },
  {
   "cell_type": "markdown",
   "metadata": {},
   "source": [
    "8.1 ผลการรันเป็นอย่างไร\n",
    "\n"
   ]
  },
  {
   "cell_type": "markdown",
   "metadata": {},
   "source": [
    "*คำตอบ*"
   ]
  },
  {
   "cell_type": "markdown",
   "metadata": {},
   "source": [
    "Default integer F1 = 0\n",
    "Default string F2 =\n",
    "Initialized integer F3 = 100\n",
    "Initialized string F4 = ASDF"
   ]
  },
  {
   "cell_type": "markdown",
   "metadata": {},
   "source": [
    "8.2 เหมือนหรือต่างจาก console application อย่างไร"
   ]
  },
  {
   "cell_type": "markdown",
   "metadata": {},
   "source": [
    "*คำตอบ*"
   ]
  },
  {
   "cell_type": "markdown",
   "metadata": {},
   "source": [
    "ไม่มี"
   ]
  },
  {
   "cell_type": "markdown",
   "metadata": {},
   "source": [
    "## คำถาม"
   ]
  },
  {
   "cell_type": "markdown",
   "metadata": {},
   "source": [
    "1. Field ในภาษา C# คืออะไร\n"
   ]
  },
  {
   "cell_type": "markdown",
   "metadata": {},
   "source": [
    "*คำตอบ*"
   ]
  },
  {
   "cell_type": "markdown",
   "metadata": {},
   "source": [
    "Field ในภาษา C# คือตัวแปรที่ประกาศไว้ภายในคลาสหรือโครงสร้าง (struct) ใช้สำหรับเก็บข้อมูลที่เป็นส่วนหนึ่งของ object หรือ instance ของคลาสนั้นๆ\n",
    "Field เปรียบเสมือนคุณสมบัติหรือลักษณะของ object"
   ]
  },
  {
   "cell_type": "markdown",
   "metadata": {},
   "source": [
    "2. Field มีหน้าที่อะไรใน class \n"
   ]
  },
  {
   "cell_type": "markdown",
   "metadata": {},
   "source": [
    "*คำตอบ*"
   ]
  },
  {
   "cell_type": "markdown",
   "metadata": {},
   "source": [
    "เก็บข้อมูลที่เป็นสถานะ (state) ของ object\n",
    "กำหนดคุณสมบัติหรือลักษณะของ object\n",
    "ใช้ในการเข้าถึงและแก้ไขข้อมูลภายใน object"
   ]
  },
  {
   "cell_type": "markdown",
   "metadata": {},
   "source": [
    "3. การประกาศ Field ทำได้อย่างไร"
   ]
  },
  {
   "cell_type": "markdown",
   "metadata": {},
   "source": [
    "*คำตอบ*"
   ]
  },
  {
   "cell_type": "markdown",
   "metadata": {},
   "source": [
    "[access_modifier] [static] [readonly] [type] field_name [= initial_value];"
   ]
  },
  {
   "cell_type": "markdown",
   "metadata": {},
   "source": [
    "4. Implicit fields initialization  คืออะไร"
   ]
  },
  {
   "cell_type": "markdown",
   "metadata": {},
   "source": [
    "*คำตอบ*"
   ]
  },
  {
   "cell_type": "markdown",
   "metadata": {},
   "source": [
    "Implicit fields initialization คือการกำหนดค่าเริ่มต้นให้กับ field โดยอัตโนมัติเมื่อสร้าง object โดยที่ไม่ได้ระบุค่าเริ่มต้นตอนประกาศ field\n",
    "ค่าเริ่มต้นจะขึ้นอยู่กับประเภทข้อมูลของ field เช่น int จะมีค่าเริ่มต้นเป็น 0, string จะมีค่าเริ่มต้นเป็น null"
   ]
  },
  {
   "cell_type": "markdown",
   "metadata": {},
   "source": [
    "5. Explicit field initialization คืออะไร\n",
    "\n"
   ]
  },
  {
   "cell_type": "markdown",
   "metadata": {},
   "source": [
    "*คำตอบ*"
   ]
  },
  {
   "cell_type": "markdown",
   "metadata": {},
   "source": [
    "Explicit field initialization คือการกำหนดค่าเริ่มต้นให้กับ field โดยตรงตอนประกาศ field ในคลาส\n",
    "เช่น public int F3 = 100; หรือ public string F4 = \"ASDF\";"
   ]
  },
  {
   "cell_type": "markdown",
   "metadata": {},
   "source": [
    "6. Implicit fields initialization  และ Explicit field initialization แตกต่างกันอย่างไร\n",
    "\n"
   ]
  },
  {
   "cell_type": "markdown",
   "metadata": {},
   "source": [
    "*คำตอบ*"
   ]
  },
  {
   "cell_type": "markdown",
   "metadata": {},
   "source": [
    "Implicit fields initialization (การกำหนดค่าเริ่มต้นโดยปริยาย):\n",
    "\n",
    "เป็นการกำหนดค่าเริ่มต้นให้กับ field โดยอัตโนมัติเมื่อสร้าง object โดยที่ไม่ได้ระบุค่าเริ่มต้นตอนประกาศ field\n",
    "ค่าเริ่มต้นจะขึ้นอยู่กับประเภทข้อมูลของ field เช่น int จะมีค่าเริ่มต้นเป็น 0, string จะมีค่าเริ่มต้นเป็น null\n",
    "ตัวอย่าง: public int F1; (ค่าเริ่มต้นของ F1 จะเป็น 0)\n",
    "Explicit field initialization (การกำหนดค่าเริ่มต้นโดยตรง):\n",
    "\n",
    "เป็นการกำหนดค่าเริ่มต้นให้กับ field โดยตรงตอนประกาศ field ในคลาส\n",
    "ผู้พัฒนาจะระบุค่าเริ่มต้นที่ต้องการให้กับ field\n",
    "ตัวอย่าง: public int F3 = 100; (ค่าเริ่มต้นของ F3 จะเป็น 100)"
   ]
  }
 ],
 "metadata": {
  "kernelspec": {
   "display_name": ".NET (C#)",
   "language": "C#",
   "name": ".net-csharp"
  },
  "polyglot_notebook": {
   "kernelInfo": {
    "defaultKernelName": "csharp",
    "items": [
     {
      "aliases": [],
      "languageName": "csharp",
      "name": "csharp"
     }
    ]
   }
  }
 },
 "nbformat": 4,
 "nbformat_minor": 2
}
